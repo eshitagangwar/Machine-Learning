{
 "cells": [
  {
   "cell_type": "markdown",
   "metadata": {},
   "source": [
    "# KNN"
   ]
  },
  {
   "cell_type": "code",
   "execution_count": 1,
   "metadata": {},
   "outputs": [
    {
     "name": "stderr",
     "output_type": "stream",
     "text": [
      "/anaconda3/lib/python3.6/site-packages/sklearn/ensemble/weight_boosting.py:29: DeprecationWarning: numpy.core.umath_tests is an internal NumPy module and should not be imported. It will be removed in a future NumPy release.\n",
      "  from numpy.core.umath_tests import inner1d\n"
     ]
    }
   ],
   "source": [
    "import pandas as pd\n",
    "import numpy as np\n",
    "from sklearn.model_selection import train_test_split\n",
    "from sklearn.ensemble import RandomForestClassifier, AdaBoostClassifier\n",
    "from sklearn.metrics import accuracy_score, classification_report\n",
    "from sklearn.metrics import confusion_matrix"
   ]
  },
  {
   "cell_type": "code",
   "execution_count": 95,
   "metadata": {},
   "outputs": [],
   "source": [
    "hr = pd.read_csv('https://raw.githubusercontent.com/skathirmani/datasets/master/HR%20Analytics.csv')\n",
    "hr_dummies = pd.get_dummies(hr)\n",
    "\n",
    "\n",
    "train, test = train_test_split(hr_dummies,\n",
    "                               test_size=0.3,\n",
    "                               random_state=300)"
   ]
  },
  {
   "cell_type": "code",
   "execution_count": 50,
   "metadata": {},
   "outputs": [],
   "source": [
    "train_x = train.drop('Attrition', axis=1)\n",
    "train_y = train['Attrition']\n",
    "\n",
    "test_x = test.drop('Attrition', axis=1)\n",
    "test_y = test['Attrition']"
   ]
  },
  {
   "cell_type": "markdown",
   "metadata": {},
   "source": [
    "### Algorithm steps\n",
    "- Identify Euclidean Distance between the one test sample with all training samples\n",
    "- Sort the training samples in the ascending order of euclidean distance\n",
    "- Choose K - Neighbors i.e choose first K rows after sorting\n",
    "- Do polling on target column\n",
    "- Prediction will be for that class which has highest count"
   ]
  },
  {
   "cell_type": "code",
   "execution_count": 16,
   "metadata": {},
   "outputs": [
    {
     "data": {
      "text/html": [
       "<div>\n",
       "<style scoped>\n",
       "    .dataframe tbody tr th:only-of-type {\n",
       "        vertical-align: middle;\n",
       "    }\n",
       "\n",
       "    .dataframe tbody tr th {\n",
       "        vertical-align: top;\n",
       "    }\n",
       "\n",
       "    .dataframe thead th {\n",
       "        text-align: right;\n",
       "    }\n",
       "</style>\n",
       "<table border=\"1\" class=\"dataframe\">\n",
       "  <thead>\n",
       "    <tr style=\"text-align: right;\">\n",
       "      <th></th>\n",
       "      <th>Age</th>\n",
       "      <th>DailyRate</th>\n",
       "      <th>DistanceFromHome</th>\n",
       "      <th>Education</th>\n",
       "      <th>EmployeeCount</th>\n",
       "      <th>EmployeeNumber</th>\n",
       "      <th>EnvironmentSatisfaction</th>\n",
       "      <th>HourlyRate</th>\n",
       "      <th>JobInvolvement</th>\n",
       "      <th>JobLevel</th>\n",
       "      <th>...</th>\n",
       "      <th>JobRole_Research Director</th>\n",
       "      <th>JobRole_Research Scientist</th>\n",
       "      <th>JobRole_Sales Executive</th>\n",
       "      <th>JobRole_Sales Representative</th>\n",
       "      <th>MaritalStatus_Divorced</th>\n",
       "      <th>MaritalStatus_Married</th>\n",
       "      <th>MaritalStatus_Single</th>\n",
       "      <th>Over18_Y</th>\n",
       "      <th>OverTime_No</th>\n",
       "      <th>OverTime_Yes</th>\n",
       "    </tr>\n",
       "  </thead>\n",
       "  <tbody>\n",
       "    <tr>\n",
       "      <th>178</th>\n",
       "      <td>46</td>\n",
       "      <td>526</td>\n",
       "      <td>1</td>\n",
       "      <td>2</td>\n",
       "      <td>1</td>\n",
       "      <td>244</td>\n",
       "      <td>2</td>\n",
       "      <td>92</td>\n",
       "      <td>3</td>\n",
       "      <td>3</td>\n",
       "      <td>...</td>\n",
       "      <td>0</td>\n",
       "      <td>0</td>\n",
       "      <td>1</td>\n",
       "      <td>0</td>\n",
       "      <td>1</td>\n",
       "      <td>0</td>\n",
       "      <td>0</td>\n",
       "      <td>1</td>\n",
       "      <td>1</td>\n",
       "      <td>0</td>\n",
       "    </tr>\n",
       "    <tr>\n",
       "      <th>971</th>\n",
       "      <td>51</td>\n",
       "      <td>1405</td>\n",
       "      <td>11</td>\n",
       "      <td>2</td>\n",
       "      <td>1</td>\n",
       "      <td>1367</td>\n",
       "      <td>4</td>\n",
       "      <td>82</td>\n",
       "      <td>2</td>\n",
       "      <td>4</td>\n",
       "      <td>...</td>\n",
       "      <td>0</td>\n",
       "      <td>0</td>\n",
       "      <td>0</td>\n",
       "      <td>0</td>\n",
       "      <td>0</td>\n",
       "      <td>0</td>\n",
       "      <td>1</td>\n",
       "      <td>1</td>\n",
       "      <td>1</td>\n",
       "      <td>0</td>\n",
       "    </tr>\n",
       "    <tr>\n",
       "      <th>1172</th>\n",
       "      <td>29</td>\n",
       "      <td>469</td>\n",
       "      <td>10</td>\n",
       "      <td>3</td>\n",
       "      <td>1</td>\n",
       "      <td>1650</td>\n",
       "      <td>3</td>\n",
       "      <td>42</td>\n",
       "      <td>2</td>\n",
       "      <td>2</td>\n",
       "      <td>...</td>\n",
       "      <td>0</td>\n",
       "      <td>0</td>\n",
       "      <td>1</td>\n",
       "      <td>0</td>\n",
       "      <td>0</td>\n",
       "      <td>0</td>\n",
       "      <td>1</td>\n",
       "      <td>1</td>\n",
       "      <td>1</td>\n",
       "      <td>0</td>\n",
       "    </tr>\n",
       "    <tr>\n",
       "      <th>667</th>\n",
       "      <td>41</td>\n",
       "      <td>1085</td>\n",
       "      <td>2</td>\n",
       "      <td>4</td>\n",
       "      <td>1</td>\n",
       "      <td>927</td>\n",
       "      <td>2</td>\n",
       "      <td>57</td>\n",
       "      <td>1</td>\n",
       "      <td>1</td>\n",
       "      <td>...</td>\n",
       "      <td>0</td>\n",
       "      <td>0</td>\n",
       "      <td>0</td>\n",
       "      <td>0</td>\n",
       "      <td>1</td>\n",
       "      <td>0</td>\n",
       "      <td>0</td>\n",
       "      <td>1</td>\n",
       "      <td>0</td>\n",
       "      <td>1</td>\n",
       "    </tr>\n",
       "    <tr>\n",
       "      <th>399</th>\n",
       "      <td>31</td>\n",
       "      <td>329</td>\n",
       "      <td>1</td>\n",
       "      <td>2</td>\n",
       "      <td>1</td>\n",
       "      <td>530</td>\n",
       "      <td>4</td>\n",
       "      <td>98</td>\n",
       "      <td>2</td>\n",
       "      <td>1</td>\n",
       "      <td>...</td>\n",
       "      <td>0</td>\n",
       "      <td>0</td>\n",
       "      <td>0</td>\n",
       "      <td>0</td>\n",
       "      <td>0</td>\n",
       "      <td>1</td>\n",
       "      <td>0</td>\n",
       "      <td>1</td>\n",
       "      <td>1</td>\n",
       "      <td>0</td>\n",
       "    </tr>\n",
       "  </tbody>\n",
       "</table>\n",
       "<p>5 rows × 55 columns</p>\n",
       "</div>"
      ],
      "text/plain": [
       "      Age  DailyRate  DistanceFromHome  Education  EmployeeCount  \\\n",
       "178    46        526                 1          2              1   \n",
       "971    51       1405                11          2              1   \n",
       "1172   29        469                10          3              1   \n",
       "667    41       1085                 2          4              1   \n",
       "399    31        329                 1          2              1   \n",
       "\n",
       "      EmployeeNumber  EnvironmentSatisfaction  HourlyRate  JobInvolvement  \\\n",
       "178              244                        2          92               3   \n",
       "971             1367                        4          82               2   \n",
       "1172            1650                        3          42               2   \n",
       "667              927                        2          57               1   \n",
       "399              530                        4          98               2   \n",
       "\n",
       "      JobLevel      ...       JobRole_Research Director  \\\n",
       "178          3      ...                               0   \n",
       "971          4      ...                               0   \n",
       "1172         2      ...                               0   \n",
       "667          1      ...                               0   \n",
       "399          1      ...                               0   \n",
       "\n",
       "      JobRole_Research Scientist  JobRole_Sales Executive  \\\n",
       "178                            0                        1   \n",
       "971                            0                        0   \n",
       "1172                           0                        1   \n",
       "667                            0                        0   \n",
       "399                            0                        0   \n",
       "\n",
       "      JobRole_Sales Representative  MaritalStatus_Divorced  \\\n",
       "178                              0                       1   \n",
       "971                              0                       0   \n",
       "1172                             0                       0   \n",
       "667                              0                       1   \n",
       "399                              0                       0   \n",
       "\n",
       "      MaritalStatus_Married  MaritalStatus_Single  Over18_Y  OverTime_No  \\\n",
       "178                       0                     0         1            1   \n",
       "971                       0                     1         1            1   \n",
       "1172                      0                     1         1            1   \n",
       "667                       0                     0         1            0   \n",
       "399                       1                     0         1            1   \n",
       "\n",
       "      OverTime_Yes  \n",
       "178              0  \n",
       "971              0  \n",
       "1172             0  \n",
       "667              1  \n",
       "399              0  \n",
       "\n",
       "[5 rows x 55 columns]"
      ]
     },
     "execution_count": 16,
     "metadata": {},
     "output_type": "execute_result"
    }
   ],
   "source": [
    "train_x.head()"
   ]
  },
  {
   "cell_type": "code",
   "execution_count": 27,
   "metadata": {},
   "outputs": [
    {
     "data": {
      "text/plain": [
       "0"
      ]
     },
     "execution_count": 27,
     "metadata": {},
     "output_type": "execute_result"
    }
   ],
   "source": [
    "from scipy.spatial.distance import euclidean\n",
    "\n",
    "test_sample = test_x.iloc[0]\n",
    "df_eds = pd.DataFrame(columns=['index', 'euclidean'])\n",
    "\n",
    "for index, row in train_x.iterrows():\n",
    "    curr_ed = euclidean(test_sample.values, row.values)\n",
    "    df_eds = df_eds.append({'index': index,\n",
    "                            'euclidean': curr_ed}, ignore_index=True)\n",
    "df_eds = df_eds.sort_values(by='euclidean')\n",
    "neigbors = df_eds.head()\n",
    "\n",
    "train_y.loc[neigbors['index']].value_counts().index[0]"
   ]
  },
  {
   "cell_type": "code",
   "execution_count": 42,
   "metadata": {},
   "outputs": [
    {
     "name": "stdout",
     "output_type": "stream",
     "text": [
      "Accuracy: 0.80\n",
      "             precision    recall  f1-score   support\n",
      "\n",
      "          0       0.84      0.94      0.89       371\n",
      "          1       0.15      0.06      0.08        70\n",
      "\n",
      "avg / total       0.73      0.80      0.76       441\n",
      "\n"
     ]
    },
    {
     "data": {
      "text/plain": [
       "<matplotlib.legend.Legend at 0x1a148765f8>"
      ]
     },
     "execution_count": 42,
     "metadata": {},
     "output_type": "execute_result"
    },
    {
     "data": {
      "image/png": "[encoded data removed]",
      "text/plain": [
       "<Figure size 432x288 with 1 Axes>"
      ]
     },
     "metadata": {},
     "output_type": "display_data"
    }
   ],
   "source": [
    "from sklearn.neighbors import KNeighborsClassifier\n",
    "from sklearn.metrics import roc_curve, auc\n",
    "import matplotlib.pyplot as plt\n",
    "%matplotlib inline\n",
    "\n",
    "model = KNeighborsClassifier(n_neighbors=5)\n",
    "model.fit(train_x, train_y)\n",
    "pred_class = model.predict(test_x)\n",
    "pred_probs = pd.DataFrame(model.predict_proba(test_x),\n",
    "                         columns=['Neg', 'Pos'])\n",
    "print('Accuracy: %.2f' % accuracy_score(test_y, pred_class))\n",
    "print(classification_report(test_y, pred_class))\n",
    "\n",
    "fpr_knn, tpr_knn, thresholds = roc_curve(test_y, pred_probs['Pos'])\n",
    "auc_knn = auc(fpr_knn, tpr_knn)\n",
    "plt.plot(fpr_knn, tpr_knn)\n",
    "plt.legend(['AUC: %.2f' % auc_knn])"
   ]
  },
  {
   "cell_type": "code",
   "execution_count": 47,
   "metadata": {},
   "outputs": [
    {
     "data": {
      "text/plain": [
       "array(['EDIBLE', 'POISONOUS'], dtype=object)"
      ]
     },
     "execution_count": 47,
     "metadata": {},
     "output_type": "execute_result"
    }
   ],
   "source": [
    "data['class'].unique()"
   ]
  },
  {
   "cell_type": "code",
   "execution_count": 48,
   "metadata": {},
   "outputs": [
    {
     "name": "stdout",
     "output_type": "stream",
     "text": [
      "Accuracy: 1.00\n",
      "             precision    recall  f1-score   support\n",
      "\n",
      "     EDIBLE       1.00      1.00      1.00      1348\n",
      "  POISONOUS       1.00      1.00      1.00      1177\n",
      "\n",
      "avg / total       1.00      1.00      1.00      2525\n",
      "\n"
     ]
    },
    {
     "data": {
      "text/plain": [
       "<matplotlib.legend.Legend at 0x1a149937f0>"
      ]
     },
     "execution_count": 48,
     "metadata": {},
     "output_type": "execute_result"
    },
    {
     "data": {
      "image/png": "[encoded data removed]",
      "text/plain": [
       "<Figure size 432x288 with 1 Axes>"
      ]
     },
     "metadata": {},
     "output_type": "display_data"
    }
   ],
   "source": [
    "mushroom = pd.read_csv('https://raw.githubusercontent.com/skathirmani/datasets/master/mushroom_full.csv')\n",
    "\n",
    "target_col = 'class'\n",
    "data = mushroom\n",
    "data_dummies = pd.get_dummies(data.drop(target_col, axis=1))\n",
    "data_dummies[target_col] = data[target_col]\n",
    "\n",
    "\n",
    "train, test = train_test_split(data_dummies,\n",
    "                               test_size=0.3,\n",
    "                               random_state=100)\n",
    "\n",
    "train_x = train.drop(target_col, axis=1)\n",
    "train_y = train[target_col]\n",
    "\n",
    "test_x = test.drop(target_col, axis=1)\n",
    "test_y = test[target_col]\n",
    "\n",
    "model = KNeighborsClassifier(n_neighbors=5)\n",
    "model.fit(train_x, train_y)\n",
    "pred_class = model.predict(test_x)\n",
    "pred_probs = pd.DataFrame(model.predict_proba(test_x),\n",
    "                         columns=['Neg', 'Pos'])\n",
    "print('Accuracy: %.2f' % accuracy_score(test_y, pred_class))\n",
    "print(classification_report(test_y, pred_class))\n",
    "\n",
    "fpr_knn, tpr_knn, thresholds = roc_curve(test_y,\n",
    "                                         pred_probs['Pos'],\n",
    "                                        pos_label='POISONOUS')\n",
    "auc_knn = auc(fpr_knn, tpr_knn)\n",
    "plt.plot(fpr_knn, tpr_knn)\n",
    "plt.legend(['AUC: %.2f' % auc_knn])"
   ]
  },
  {
   "cell_type": "markdown",
   "metadata": {},
   "source": [
    "## Hyper Parameter Tuning"
   ]
  },
  {
   "cell_type": "code",
   "execution_count": 58,
   "metadata": {},
   "outputs": [],
   "source": [
    "from sklearn.tree import DecisionTreeClassifier\n",
    "\n",
    "# depth=1\n",
    "depths = []\n",
    "train_errors = []\n",
    "test_errors = []\n",
    "for depth in range(1, 30):\n",
    "    model = DecisionTreeClassifier(max_depth=depth)\n",
    "    model.fit(train_x, train_y)\n",
    "    train_predict_class = model.predict(train_x)\n",
    "    test_predict_class = model.predict(test_x)\n",
    "    train_error = 1 - accuracy_score(train_y, train_predict_class)\n",
    "    test_error = 1 - accuracy_score(test_y, test_predict_class)  \n",
    "    depths.append(depth)\n",
    "    train_errors.append(train_error)\n",
    "    test_errors.append(test_error)"
   ]
  },
  {
   "cell_type": "code",
   "execution_count": 63,
   "metadata": {},
   "outputs": [
    {
     "data": {
      "text/plain": [
       "Text(0,0.5,'Error rate')"
      ]
     },
     "execution_count": 63,
     "metadata": {},
     "output_type": "execute_result"
    },
    {
     "data": {
      "image/png": "[encoded data removed]",
      "text/plain": [
       "<Figure size 432x288 with 1 Axes>"
      ]
     },
     "metadata": {},
     "output_type": "display_data"
    }
   ],
   "source": [
    "plt.plot(depths, train_errors)\n",
    "plt.plot(depths, test_errors)\n",
    "plt.legend(['Train Errors', 'Test Errors'])\n",
    "plt.xlabel('Decision Tree Depth')\n",
    "plt.ylabel('Error rate')"
   ]
  },
  {
   "cell_type": "markdown",
   "metadata": {},
   "source": [
    "## Cross Validation"
   ]
  },
  {
   "cell_type": "code",
   "execution_count": 86,
   "metadata": {},
   "outputs": [
    {
     "data": {
      "text/plain": [
       "array([0.83653846, 0.83653846, 0.83495146, 0.83495146, 0.82524272,\n",
       "       0.83495146, 0.83495146, 0.83333333, 0.84313725, 0.81372549])"
      ]
     },
     "execution_count": 86,
     "metadata": {},
     "output_type": "execute_result"
    }
   ],
   "source": [
    "from sklearn.model_selection import cross_val_score\n",
    "\n",
    "model = DecisionTreeClassifier(random_state=100, max_depth=1)\n",
    "cv_results = cross_val_score(model, train_x, train_y, cv=10)\n",
    "cv_results"
   ]
  },
  {
   "cell_type": "code",
   "execution_count": 87,
   "metadata": {},
   "outputs": [
    {
     "name": "stdout",
     "output_type": "stream",
     "text": [
      "0.8328321545197616\n",
      "5.745496193345417e-05\n"
     ]
    }
   ],
   "source": [
    "print(cv_results.mean())\n",
    "print(cv_results.var())"
   ]
  },
  {
   "cell_type": "code",
   "execution_count": 103,
   "metadata": {},
   "outputs": [],
   "source": [
    "depths = []\n",
    "errors = []\n",
    "for depth in range(1, 30):\n",
    "    model = DecisionTreeClassifier(random_state=100,\n",
    "                                   max_depth=depth)\n",
    "    cv_results = cross_val_score(model, train_x, train_y, cv=10)\n",
    "    avg_acc = cv_results.mean()\n",
    "    avg_err = 1 - avg_acc\n",
    "    depths.append(depth)\n",
    "    errors.append(avg_err)"
   ]
  },
  {
   "cell_type": "code",
   "execution_count": 104,
   "metadata": {},
   "outputs": [
    {
     "data": {
      "text/plain": [
       "[<matplotlib.lines.Line2D at 0x1a10580940>]"
      ]
     },
     "execution_count": 104,
     "metadata": {},
     "output_type": "execute_result"
    },
    {
     "data": {
      "image/png": "[encoded data removed]",
      "text/plain": [
       "<Figure size 432x288 with 1 Axes>"
      ]
     },
     "metadata": {},
     "output_type": "display_data"
    }
   ],
   "source": [
    "plt.plot(depths, errors)"
   ]
  },
  {
   "cell_type": "markdown",
   "metadata": {},
   "source": [
    "## Grid Search CV"
   ]
  },
  {
   "cell_type": "code",
   "execution_count": 122,
   "metadata": {},
   "outputs": [
    {
     "name": "stderr",
     "output_type": "stream",
     "text": [
      "/anaconda3/lib/python3.6/site-packages/sklearn/metrics/classification.py:1135: UndefinedMetricWarning: F-score is ill-defined and being set to 0.0 due to no predicted samples.\n",
      "  'precision', 'predicted', average, warn_for)\n",
      "/anaconda3/lib/python3.6/site-packages/sklearn/metrics/classification.py:1135: UndefinedMetricWarning: F-score is ill-defined and being set to 0.0 due to no predicted samples.\n",
      "  'precision', 'predicted', average, warn_for)\n",
      "/anaconda3/lib/python3.6/site-packages/sklearn/metrics/classification.py:1135: UndefinedMetricWarning: F-score is ill-defined and being set to 0.0 due to no predicted samples.\n",
      "  'precision', 'predicted', average, warn_for)\n",
      "/anaconda3/lib/python3.6/site-packages/sklearn/metrics/classification.py:1135: UndefinedMetricWarning: F-score is ill-defined and being set to 0.0 due to no predicted samples.\n",
      "  'precision', 'predicted', average, warn_for)\n",
      "/anaconda3/lib/python3.6/site-packages/sklearn/metrics/classification.py:1135: UndefinedMetricWarning: F-score is ill-defined and being set to 0.0 due to no predicted samples.\n",
      "  'precision', 'predicted', average, warn_for)\n",
      "/anaconda3/lib/python3.6/site-packages/sklearn/metrics/classification.py:1135: UndefinedMetricWarning: F-score is ill-defined and being set to 0.0 due to no predicted samples.\n",
      "  'precision', 'predicted', average, warn_for)\n",
      "/anaconda3/lib/python3.6/site-packages/sklearn/metrics/classification.py:1135: UndefinedMetricWarning: F-score is ill-defined and being set to 0.0 due to no predicted samples.\n",
      "  'precision', 'predicted', average, warn_for)\n",
      "/anaconda3/lib/python3.6/site-packages/sklearn/metrics/classification.py:1135: UndefinedMetricWarning: F-score is ill-defined and being set to 0.0 due to no predicted samples.\n",
      "  'precision', 'predicted', average, warn_for)\n",
      "/anaconda3/lib/python3.6/site-packages/sklearn/metrics/classification.py:1135: UndefinedMetricWarning: F-score is ill-defined and being set to 0.0 due to no predicted samples.\n",
      "  'precision', 'predicted', average, warn_for)\n",
      "/anaconda3/lib/python3.6/site-packages/sklearn/metrics/classification.py:1135: UndefinedMetricWarning: F-score is ill-defined and being set to 0.0 due to no predicted samples.\n",
      "  'precision', 'predicted', average, warn_for)\n",
      "/anaconda3/lib/python3.6/site-packages/sklearn/metrics/classification.py:1135: UndefinedMetricWarning: F-score is ill-defined and being set to 0.0 due to no predicted samples.\n",
      "  'precision', 'predicted', average, warn_for)\n",
      "/anaconda3/lib/python3.6/site-packages/sklearn/metrics/classification.py:1135: UndefinedMetricWarning: F-score is ill-defined and being set to 0.0 due to no predicted samples.\n",
      "  'precision', 'predicted', average, warn_for)\n",
      "/anaconda3/lib/python3.6/site-packages/sklearn/metrics/classification.py:1135: UndefinedMetricWarning: F-score is ill-defined and being set to 0.0 due to no predicted samples.\n",
      "  'precision', 'predicted', average, warn_for)\n",
      "/anaconda3/lib/python3.6/site-packages/sklearn/metrics/classification.py:1135: UndefinedMetricWarning: F-score is ill-defined and being set to 0.0 due to no predicted samples.\n",
      "  'precision', 'predicted', average, warn_for)\n",
      "/anaconda3/lib/python3.6/site-packages/sklearn/metrics/classification.py:1135: UndefinedMetricWarning: F-score is ill-defined and being set to 0.0 due to no predicted samples.\n",
      "  'precision', 'predicted', average, warn_for)\n",
      "/anaconda3/lib/python3.6/site-packages/sklearn/metrics/classification.py:1135: UndefinedMetricWarning: F-score is ill-defined and being set to 0.0 due to no predicted samples.\n",
      "  'precision', 'predicted', average, warn_for)\n",
      "/anaconda3/lib/python3.6/site-packages/sklearn/metrics/classification.py:1135: UndefinedMetricWarning: F-score is ill-defined and being set to 0.0 due to no predicted samples.\n",
      "  'precision', 'predicted', average, warn_for)\n",
      "/anaconda3/lib/python3.6/site-packages/sklearn/metrics/classification.py:1135: UndefinedMetricWarning: F-score is ill-defined and being set to 0.0 due to no predicted samples.\n",
      "  'precision', 'predicted', average, warn_for)\n"
     ]
    },
    {
     "data": {
      "text/plain": [
       "GridSearchCV(cv=10, error_score='raise',\n",
       "       estimator=DecisionTreeClassifier(class_weight=None, criterion='gini', max_depth=None,\n",
       "            max_features=None, max_leaf_nodes=None,\n",
       "            min_impurity_decrease=0.0, min_impurity_split=None,\n",
       "            min_samples_leaf=1, min_samples_split=2,\n",
       "            min_weight_fraction_leaf=0.0, presort=False, random_state=100,\n",
       "            splitter='best'),\n",
       "       fit_params=None, iid=True, n_jobs=1,\n",
       "       param_grid={'max_depth': [1, 2, 3, 4, 5, 6, 7, 8, 9, 10, 11, 12, 13, 14, 15, 16, 17, 18, 19, 20, 21, 22, 23, 24, 25, 26, 27, 28, 29], 'criterion': ['gini', 'entropy']},\n",
       "       pre_dispatch='2*n_jobs', refit=True, return_train_score='warn',\n",
       "       scoring='f1', verbose=0)"
      ]
     },
     "execution_count": 122,
     "metadata": {},
     "output_type": "execute_result"
    }
   ],
   "source": [
    "from sklearn.model_selection import GridSearchCV\n",
    "\n",
    "params = {'max_depth': list(range(1,30)),\n",
    "          'criterion': ['gini', 'entropy']}\n",
    "base_estimator = DecisionTreeClassifier(random_state=100)\n",
    "cv_model = GridSearchCV(base_estimator,\n",
    "                        param_grid=params,\n",
    "                        cv=10,\n",
    "                       scoring='f1')\n",
    "cv_model.fit(train_x, train_y)\n",
    "  "
   ]
  },
  {
   "cell_type": "code",
   "execution_count": 118,
   "metadata": {},
   "outputs": [
    {
     "data": {
      "text/plain": [
       "{'criterion': 'entropy', 'max_depth': 8}"
      ]
     },
     "execution_count": 118,
     "metadata": {},
     "output_type": "execute_result"
    }
   ],
   "source": [
    "cv_model.best_params_"
   ]
  },
  {
   "cell_type": "code",
   "execution_count": 121,
   "metadata": {},
   "outputs": [
    {
     "data": {
      "text/plain": [
       "[({'criterion': 'gini', 'max_depth': 1}, 0.8328474246841594),\n",
       " ({'criterion': 'gini', 'max_depth': 2}, 0.8357628765792031),\n",
       " ({'criterion': 'gini', 'max_depth': 3}, 0.8328474246841594),\n",
       " ({'criterion': 'gini', 'max_depth': 4}, 0.8493683187560739),\n",
       " ({'criterion': 'gini', 'max_depth': 5}, 0.8338192419825073),\n",
       " ({'criterion': 'gini', 'max_depth': 6}, 0.8347910592808552),\n",
       " ({'criterion': 'gini', 'max_depth': 7}, 0.8377065111758989),\n",
       " ({'criterion': 'gini', 'max_depth': 8}, 0.8250728862973761),\n",
       " ({'criterion': 'gini', 'max_depth': 9}, 0.8124392614188533),\n",
       " ({'criterion': 'gini', 'max_depth': 10}, 0.8182701652089407),\n",
       " ({'criterion': 'gini', 'max_depth': 11}, 0.8046647230320699),\n",
       " ({'criterion': 'gini', 'max_depth': 12}, 0.8134110787172012),\n",
       " ({'criterion': 'gini', 'max_depth': 13}, 0.8066083576287658),\n",
       " ({'criterion': 'gini', 'max_depth': 14}, 0.7968901846452867),\n",
       " ({'criterion': 'gini', 'max_depth': 15}, 0.8027210884353742),\n",
       " ({'criterion': 'gini', 'max_depth': 16}, 0.7998056365403304),\n",
       " ({'criterion': 'gini', 'max_depth': 17}, 0.7968901846452867),\n",
       " ({'criterion': 'gini', 'max_depth': 18}, 0.793974732750243),\n",
       " ({'criterion': 'gini', 'max_depth': 19}, 0.7959183673469388),\n",
       " ({'criterion': 'gini', 'max_depth': 20}, 0.7959183673469388),\n",
       " ({'criterion': 'gini', 'max_depth': 21}, 0.7959183673469388),\n",
       " ({'criterion': 'gini', 'max_depth': 22}, 0.7959183673469388),\n",
       " ({'criterion': 'gini', 'max_depth': 23}, 0.7959183673469388),\n",
       " ({'criterion': 'gini', 'max_depth': 24}, 0.7959183673469388),\n",
       " ({'criterion': 'gini', 'max_depth': 25}, 0.7959183673469388),\n",
       " ({'criterion': 'gini', 'max_depth': 26}, 0.7959183673469388),\n",
       " ({'criterion': 'gini', 'max_depth': 27}, 0.7959183673469388),\n",
       " ({'criterion': 'gini', 'max_depth': 28}, 0.7959183673469388),\n",
       " ({'criterion': 'gini', 'max_depth': 29}, 0.7959183673469388),\n",
       " ({'criterion': 'entropy', 'max_depth': 1}, 0.8377065111758989),\n",
       " ({'criterion': 'entropy', 'max_depth': 2}, 0.8454810495626822),\n",
       " ({'criterion': 'entropy', 'max_depth': 3}, 0.8377065111758989),\n",
       " ({'criterion': 'entropy', 'max_depth': 4}, 0.8454810495626822),\n",
       " ({'criterion': 'entropy', 'max_depth': 5}, 0.8406219630709426),\n",
       " ({'criterion': 'entropy', 'max_depth': 6}, 0.8338192419825073),\n",
       " ({'criterion': 'entropy', 'max_depth': 7}, 0.826044703595724),\n",
       " ({'criterion': 'entropy', 'max_depth': 8}, 0.826044703595724),\n",
       " ({'criterion': 'entropy', 'max_depth': 9}, 0.8104956268221575),\n",
       " ({'criterion': 'entropy', 'max_depth': 10}, 0.8036929057337221),\n",
       " ({'criterion': 'entropy', 'max_depth': 11}, 0.8007774538386784),\n",
       " ({'criterion': 'entropy', 'max_depth': 12}, 0.8066083576287658),\n",
       " ({'criterion': 'entropy', 'max_depth': 13}, 0.7998056365403304),\n",
       " ({'criterion': 'entropy', 'max_depth': 14}, 0.8036929057337221),\n",
       " ({'criterion': 'entropy', 'max_depth': 15}, 0.8056365403304179),\n",
       " ({'criterion': 'entropy', 'max_depth': 16}, 0.8066083576287658),\n",
       " ({'criterion': 'entropy', 'max_depth': 17}, 0.8066083576287658),\n",
       " ({'criterion': 'entropy', 'max_depth': 18}, 0.8066083576287658),\n",
       " ({'criterion': 'entropy', 'max_depth': 19}, 0.8066083576287658),\n",
       " ({'criterion': 'entropy', 'max_depth': 20}, 0.8066083576287658),\n",
       " ({'criterion': 'entropy', 'max_depth': 21}, 0.8066083576287658),\n",
       " ({'criterion': 'entropy', 'max_depth': 22}, 0.8066083576287658),\n",
       " ({'criterion': 'entropy', 'max_depth': 23}, 0.8066083576287658),\n",
       " ({'criterion': 'entropy', 'max_depth': 24}, 0.8066083576287658),\n",
       " ({'criterion': 'entropy', 'max_depth': 25}, 0.8066083576287658),\n",
       " ({'criterion': 'entropy', 'max_depth': 26}, 0.8066083576287658),\n",
       " ({'criterion': 'entropy', 'max_depth': 27}, 0.8066083576287658),\n",
       " ({'criterion': 'entropy', 'max_depth': 28}, 0.8066083576287658),\n",
       " ({'criterion': 'entropy', 'max_depth': 29}, 0.8066083576287658)]"
      ]
     },
     "execution_count": 121,
     "metadata": {},
     "output_type": "execute_result"
    }
   ],
   "source": [
    "#cv_model.grid_scores_\n",
    "list(zip(cv_model.cv_results_['params'],\n",
    "         cv_model.cv_results_['mean_test_score']))"
   ]
  },
  {
   "cell_type": "code",
   "execution_count": 113,
   "metadata": {},
   "outputs": [
    {
     "name": "stderr",
     "output_type": "stream",
     "text": [
      "/anaconda3/lib/python3.6/site-packages/sklearn/utils/deprecation.py:122: FutureWarning: You are accessing a training score ('split0_train_score'), which will not be available by default any more in 0.21. If you need training scores, please set return_train_score=True\n",
      "  warnings.warn(*warn_args, **warn_kwargs)\n",
      "/anaconda3/lib/python3.6/site-packages/sklearn/utils/deprecation.py:122: FutureWarning: You are accessing a training score ('split1_train_score'), which will not be available by default any more in 0.21. If you need training scores, please set return_train_score=True\n",
      "  warnings.warn(*warn_args, **warn_kwargs)\n",
      "/anaconda3/lib/python3.6/site-packages/sklearn/utils/deprecation.py:122: FutureWarning: You are accessing a training score ('split2_train_score'), which will not be available by default any more in 0.21. If you need training scores, please set return_train_score=True\n",
      "  warnings.warn(*warn_args, **warn_kwargs)\n",
      "/anaconda3/lib/python3.6/site-packages/sklearn/utils/deprecation.py:122: FutureWarning: You are accessing a training score ('split3_train_score'), which will not be available by default any more in 0.21. If you need training scores, please set return_train_score=True\n",
      "  warnings.warn(*warn_args, **warn_kwargs)\n",
      "/anaconda3/lib/python3.6/site-packages/sklearn/utils/deprecation.py:122: FutureWarning: You are accessing a training score ('split4_train_score'), which will not be available by default any more in 0.21. If you need training scores, please set return_train_score=True\n",
      "  warnings.warn(*warn_args, **warn_kwargs)\n",
      "/anaconda3/lib/python3.6/site-packages/sklearn/utils/deprecation.py:122: FutureWarning: You are accessing a training score ('split5_train_score'), which will not be available by default any more in 0.21. If you need training scores, please set return_train_score=True\n",
      "  warnings.warn(*warn_args, **warn_kwargs)\n",
      "/anaconda3/lib/python3.6/site-packages/sklearn/utils/deprecation.py:122: FutureWarning: You are accessing a training score ('split6_train_score'), which will not be available by default any more in 0.21. If you need training scores, please set return_train_score=True\n",
      "  warnings.warn(*warn_args, **warn_kwargs)\n",
      "/anaconda3/lib/python3.6/site-packages/sklearn/utils/deprecation.py:122: FutureWarning: You are accessing a training score ('split7_train_score'), which will not be available by default any more in 0.21. If you need training scores, please set return_train_score=True\n",
      "  warnings.warn(*warn_args, **warn_kwargs)\n",
      "/anaconda3/lib/python3.6/site-packages/sklearn/utils/deprecation.py:122: FutureWarning: You are accessing a training score ('split8_train_score'), which will not be available by default any more in 0.21. If you need training scores, please set return_train_score=True\n",
      "  warnings.warn(*warn_args, **warn_kwargs)\n",
      "/anaconda3/lib/python3.6/site-packages/sklearn/utils/deprecation.py:122: FutureWarning: You are accessing a training score ('split9_train_score'), which will not be available by default any more in 0.21. If you need training scores, please set return_train_score=True\n",
      "  warnings.warn(*warn_args, **warn_kwargs)\n",
      "/anaconda3/lib/python3.6/site-packages/sklearn/utils/deprecation.py:122: FutureWarning: You are accessing a training score ('mean_train_score'), which will not be available by default any more in 0.21. If you need training scores, please set return_train_score=True\n",
      "  warnings.warn(*warn_args, **warn_kwargs)\n",
      "/anaconda3/lib/python3.6/site-packages/sklearn/utils/deprecation.py:122: FutureWarning: You are accessing a training score ('std_train_score'), which will not be available by default any more in 0.21. If you need training scores, please set return_train_score=True\n",
      "  warnings.warn(*warn_args, **warn_kwargs)\n"
     ]
    },
    {
     "data": {
      "text/plain": [
       "{'mean_fit_time': array([0.00225055, 0.00263367, 0.00328114, 0.00401728, 0.00483215,\n",
       "        0.00548651, 0.00620637, 0.00668437, 0.00729189, 0.00792558,\n",
       "        0.00831187, 0.00826321, 0.00825226, 0.00815282, 0.00837963,\n",
       "        0.00831473, 0.00824866, 0.00819774, 0.00820663, 0.00823948,\n",
       "        0.00818944, 0.0082417 , 0.00823207, 0.00821002, 0.0082351 ,\n",
       "        0.00826232, 0.00822477, 0.00820894, 0.00822203]),\n",
       " 'std_fit_time': array([4.18266735e-04, 2.62035755e-04, 6.48382340e-05, 4.74911676e-05,\n",
       "        2.04272727e-04, 1.11394276e-04, 1.86391284e-04, 9.47917640e-05,\n",
       "        3.06174577e-04, 2.69196602e-04, 6.04857102e-04, 4.99099376e-04,\n",
       "        6.83318356e-04, 5.00292483e-04, 4.50364366e-04, 5.16429626e-04,\n",
       "        4.82233038e-04, 4.47076234e-04, 5.07960241e-04, 5.76647462e-04,\n",
       "        4.96635984e-04, 5.01300492e-04, 4.52764776e-04, 4.62973584e-04,\n",
       "        4.85156704e-04, 5.57986563e-04, 5.36520600e-04, 5.02918523e-04,\n",
       "        4.89488313e-04]),\n",
       " 'mean_score_time': array([0.0003412 , 0.00031273, 0.00028777, 0.00029752, 0.0003113 ,\n",
       "        0.00029802, 0.00031452, 0.00030274, 0.00033312, 0.00041926,\n",
       "        0.00036778, 0.00036719, 0.00032263, 0.000318  , 0.0003262 ,\n",
       "        0.00033891, 0.00032146, 0.00031958, 0.00032606, 0.00031571,\n",
       "        0.00031619, 0.0003237 , 0.00033522, 0.00033209, 0.00031848,\n",
       "        0.00032785, 0.00032942, 0.00030634, 0.00032423]),\n",
       " 'std_score_time': array([7.15816953e-05, 8.28417972e-05, 4.34288457e-06, 3.73662768e-05,\n",
       "        4.59208109e-05, 1.12638586e-05, 4.19205768e-05, 3.59600982e-05,\n",
       "        4.90105099e-05, 5.66616438e-05, 2.27442327e-05, 4.65045141e-05,\n",
       "        4.03186613e-05, 5.15430751e-05, 5.68618864e-05, 5.11252217e-05,\n",
       "        4.72457622e-05, 3.76111184e-05, 4.49918285e-05, 3.49448445e-05,\n",
       "        3.53605860e-05, 5.02945730e-05, 4.56749269e-05, 6.69222265e-05,\n",
       "        3.88836948e-05, 4.89883117e-05, 4.94672359e-05, 2.86190596e-05,\n",
       "        4.16440826e-05]),\n",
       " 'param_max_depth': masked_array(data=[1, 2, 3, 4, 5, 6, 7, 8, 9, 10, 11, 12, 13, 14, 15, 16,\n",
       "                    17, 18, 19, 20, 21, 22, 23, 24, 25, 26, 27, 28, 29],\n",
       "              mask=[False, False, False, False, False, False, False, False,\n",
       "                    False, False, False, False, False, False, False, False,\n",
       "                    False, False, False, False, False, False, False, False,\n",
       "                    False, False, False, False, False],\n",
       "        fill_value='?',\n",
       "             dtype=object),\n",
       " 'params': [{'max_depth': 1},\n",
       "  {'max_depth': 2},\n",
       "  {'max_depth': 3},\n",
       "  {'max_depth': 4},\n",
       "  {'max_depth': 5},\n",
       "  {'max_depth': 6},\n",
       "  {'max_depth': 7},\n",
       "  {'max_depth': 8},\n",
       "  {'max_depth': 9},\n",
       "  {'max_depth': 10},\n",
       "  {'max_depth': 11},\n",
       "  {'max_depth': 12},\n",
       "  {'max_depth': 13},\n",
       "  {'max_depth': 14},\n",
       "  {'max_depth': 15},\n",
       "  {'max_depth': 16},\n",
       "  {'max_depth': 17},\n",
       "  {'max_depth': 18},\n",
       "  {'max_depth': 19},\n",
       "  {'max_depth': 20},\n",
       "  {'max_depth': 21},\n",
       "  {'max_depth': 22},\n",
       "  {'max_depth': 23},\n",
       "  {'max_depth': 24},\n",
       "  {'max_depth': 25},\n",
       "  {'max_depth': 26},\n",
       "  {'max_depth': 27},\n",
       "  {'max_depth': 28},\n",
       "  {'max_depth': 29}],\n",
       " 'split0_test_score': array([0.83653846, 0.84615385, 0.84615385, 0.85576923, 0.86538462,\n",
       "        0.84615385, 0.875     , 0.84615385, 0.83653846, 0.84615385,\n",
       "        0.84615385, 0.84615385, 0.84615385, 0.79807692, 0.81730769,\n",
       "        0.84615385, 0.80769231, 0.80769231, 0.80769231, 0.80769231,\n",
       "        0.80769231, 0.80769231, 0.80769231, 0.80769231, 0.80769231,\n",
       "        0.80769231, 0.80769231, 0.80769231, 0.80769231]),\n",
       " 'split1_test_score': array([0.83653846, 0.875     , 0.83653846, 0.83653846, 0.83653846,\n",
       "        0.86538462, 0.875     , 0.875     , 0.86538462, 0.85576923,\n",
       "        0.85576923, 0.88461538, 0.85576923, 0.83653846, 0.84615385,\n",
       "        0.82692308, 0.82692308, 0.82692308, 0.82692308, 0.82692308,\n",
       "        0.82692308, 0.82692308, 0.82692308, 0.82692308, 0.82692308,\n",
       "        0.82692308, 0.82692308, 0.82692308, 0.82692308]),\n",
       " 'split2_test_score': array([0.83495146, 0.78640777, 0.85436893, 0.83495146, 0.82524272,\n",
       "        0.78640777, 0.83495146, 0.81553398, 0.82524272, 0.84466019,\n",
       "        0.81553398, 0.80582524, 0.80582524, 0.81553398, 0.80582524,\n",
       "        0.80582524, 0.80582524, 0.80582524, 0.80582524, 0.80582524,\n",
       "        0.80582524, 0.80582524, 0.80582524, 0.80582524, 0.80582524,\n",
       "        0.80582524, 0.80582524, 0.80582524, 0.80582524]),\n",
       " 'split3_test_score': array([0.83495146, 0.80582524, 0.81553398, 0.87378641, 0.83495146,\n",
       "        0.83495146, 0.84466019, 0.82524272, 0.83495146, 0.84466019,\n",
       "        0.81553398, 0.82524272, 0.81553398, 0.81553398, 0.81553398,\n",
       "        0.81553398, 0.81553398, 0.81553398, 0.81553398, 0.81553398,\n",
       "        0.81553398, 0.81553398, 0.81553398, 0.81553398, 0.81553398,\n",
       "        0.81553398, 0.81553398, 0.81553398, 0.81553398]),\n",
       " 'split4_test_score': array([0.82524272, 0.84466019, 0.82524272, 0.82524272, 0.82524272,\n",
       "        0.83495146, 0.81553398, 0.83495146, 0.7961165 , 0.81553398,\n",
       "        0.78640777, 0.80582524, 0.83495146, 0.81553398, 0.83495146,\n",
       "        0.81553398, 0.81553398, 0.81553398, 0.81553398, 0.81553398,\n",
       "        0.81553398, 0.81553398, 0.81553398, 0.81553398, 0.81553398,\n",
       "        0.81553398, 0.81553398, 0.81553398, 0.81553398]),\n",
       " 'split5_test_score': array([0.83495146, 0.86407767, 0.86407767, 0.87378641, 0.81553398,\n",
       "        0.85436893, 0.84466019, 0.84466019, 0.82524272, 0.82524272,\n",
       "        0.82524272, 0.80582524, 0.80582524, 0.77669903, 0.78640777,\n",
       "        0.77669903, 0.77669903, 0.77669903, 0.77669903, 0.77669903,\n",
       "        0.77669903, 0.77669903, 0.77669903, 0.77669903, 0.77669903,\n",
       "        0.77669903, 0.77669903, 0.77669903, 0.77669903]),\n",
       " 'split6_test_score': array([0.83495146, 0.81553398, 0.81553398, 0.85436893, 0.81553398,\n",
       "        0.80582524, 0.81553398, 0.7961165 , 0.76699029, 0.76699029,\n",
       "        0.77669903, 0.77669903, 0.76699029, 0.76699029, 0.77669903,\n",
       "        0.77669903, 0.77669903, 0.77669903, 0.77669903, 0.77669903,\n",
       "        0.77669903, 0.77669903, 0.77669903, 0.77669903, 0.77669903,\n",
       "        0.77669903, 0.77669903, 0.77669903, 0.77669903]),\n",
       " 'split7_test_score': array([0.83333333, 0.84313725, 0.84313725, 0.8627451 , 0.8627451 ,\n",
       "        0.87254902, 0.85294118, 0.82352941, 0.81372549, 0.84313725,\n",
       "        0.80392157, 0.83333333, 0.80392157, 0.80392157, 0.80392157,\n",
       "        0.80392157, 0.80392157, 0.80392157, 0.80392157, 0.80392157,\n",
       "        0.80392157, 0.80392157, 0.80392157, 0.80392157, 0.80392157,\n",
       "        0.80392157, 0.80392157, 0.80392157, 0.80392157]),\n",
       " 'split8_test_score': array([0.84313725, 0.84313725, 0.81372549, 0.84313725, 0.82352941,\n",
       "        0.82352941, 0.79411765, 0.79411765, 0.78431373, 0.74509804,\n",
       "        0.73529412, 0.74509804, 0.75490196, 0.74509804, 0.75490196,\n",
       "        0.74509804, 0.75490196, 0.7254902 , 0.74509804, 0.74509804,\n",
       "        0.74509804, 0.74509804, 0.74509804, 0.74509804, 0.74509804,\n",
       "        0.74509804, 0.74509804, 0.74509804, 0.74509804]),\n",
       " 'split9_test_score': array([0.81372549, 0.83333333, 0.81372549, 0.83333333, 0.83333333,\n",
       "        0.82352941, 0.82352941, 0.79411765, 0.7745098 , 0.79411765,\n",
       "        0.78431373, 0.80392157, 0.7745098 , 0.79411765, 0.78431373,\n",
       "        0.78431373, 0.78431373, 0.78431373, 0.78431373, 0.78431373,\n",
       "        0.78431373, 0.78431373, 0.78431373, 0.78431373, 0.78431373,\n",
       "        0.78431373, 0.78431373, 0.78431373, 0.78431373]),\n",
       " 'mean_test_score': array([0.83284742, 0.83576288, 0.83284742, 0.84936832, 0.83381924,\n",
       "        0.83479106, 0.83770651, 0.82507289, 0.81243926, 0.81827017,\n",
       "        0.80466472, 0.81341108, 0.80660836, 0.79689018, 0.80272109,\n",
       "        0.79980564, 0.79689018, 0.79397473, 0.79591837, 0.79591837,\n",
       "        0.79591837, 0.79591837, 0.79591837, 0.79591837, 0.79591837,\n",
       "        0.79591837, 0.79591837, 0.79591837, 0.79591837]),\n",
       " 'std_test_score': array([0.00755507, 0.02530924, 0.01766483, 0.01639463, 0.01663419,\n",
       "        0.02511545, 0.02492511, 0.02506529, 0.02966776, 0.03576048,\n",
       "        0.03367117, 0.03602548, 0.03187165, 0.02579253, 0.02623652,\n",
       "        0.02781395, 0.02138893, 0.02792068, 0.02340254, 0.02340254,\n",
       "        0.02340254, 0.02340254, 0.02340254, 0.02340254, 0.02340254,\n",
       "        0.02340254, 0.02340254, 0.02340254, 0.02340254]),\n",
       " 'rank_test_score': array([ 6,  3,  6,  1,  5,  4,  2,  8, 11,  9, 13, 10, 12, 16, 14, 15, 16,\n",
       "        29, 18, 18, 18, 18, 18, 18, 18, 18, 18, 18, 18], dtype=int32),\n",
       " 'split0_train_score': array([0.83783784, 0.85297297, 0.85405405, 0.88      , 0.9027027 ,\n",
       "        0.93081081, 0.95567568, 0.97405405, 0.97945946, 0.9827027 ,\n",
       "        0.98594595, 0.99027027, 0.99459459, 0.99567568, 0.99783784,\n",
       "        0.99891892, 1.        , 1.        , 1.        , 1.        ,\n",
       "        1.        , 1.        , 1.        , 1.        , 1.        ,\n",
       "        1.        , 1.        , 1.        , 1.        ]),\n",
       " 'split1_train_score': array([0.83783784, 0.85081081, 0.86054054, 0.88648649, 0.90054054,\n",
       "        0.92216216, 0.9427027 , 0.96756757, 0.97837838, 0.98702703,\n",
       "        0.99027027, 0.99243243, 0.99675676, 0.99891892, 0.99891892,\n",
       "        1.        , 1.        , 1.        , 1.        , 1.        ,\n",
       "        1.        , 1.        , 1.        , 1.        , 1.        ,\n",
       "        1.        , 1.        , 1.        , 1.        ]),\n",
       " 'split2_train_score': array([0.83801296, 0.85961123, 0.86933045, 0.88984881, 0.90388769,\n",
       "        0.92548596, 0.94816415, 0.96112311, 0.97300216, 0.97408207,\n",
       "        0.9838013 , 0.99460043, 0.99892009, 0.99892009, 1.        ,\n",
       "        1.        , 1.        , 1.        , 1.        , 1.        ,\n",
       "        1.        , 1.        , 1.        , 1.        , 1.        ,\n",
       "        1.        , 1.        , 1.        , 1.        ]),\n",
       " 'split3_train_score': array([0.83801296, 0.85853132, 0.86393089, 0.87796976, 0.90928726,\n",
       "        0.93196544, 0.94708423, 0.96652268, 0.98056156, 0.9838013 ,\n",
       "        0.99028078, 0.99568035, 0.99892009, 1.        , 1.        ,\n",
       "        1.        , 1.        , 1.        , 1.        , 1.        ,\n",
       "        1.        , 1.        , 1.        , 1.        , 1.        ,\n",
       "        1.        , 1.        , 1.        , 1.        ]),\n",
       " 'split4_train_score': array([0.84449244, 0.84989201, 0.85637149, 0.87473002, 0.90712743,\n",
       "        0.92224622, 0.93736501, 0.95356371, 0.96328294, 0.97732181,\n",
       "        0.98596112, 0.99460043, 0.99676026, 0.99784017, 0.99892009,\n",
       "        1.        , 1.        , 1.        , 1.        , 1.        ,\n",
       "        1.        , 1.        , 1.        , 1.        , 1.        ,\n",
       "        1.        , 1.        , 1.        , 1.        ]),\n",
       " 'split5_train_score': array([0.83801296, 0.85205184, 0.85637149, 0.88552916, 0.90820734,\n",
       "        0.92764579, 0.94384449, 0.95572354, 0.96544276, 0.97300216,\n",
       "        0.98488121, 0.9924406 , 0.99568035, 0.99784017, 0.99784017,\n",
       "        1.        , 1.        , 1.        , 1.        , 1.        ,\n",
       "        1.        , 1.        , 1.        , 1.        , 1.        ,\n",
       "        1.        , 1.        , 1.        , 1.        ]),\n",
       " 'split6_train_score': array([0.83801296, 0.8574514 , 0.86177106, 0.88660907, 0.91144708,\n",
       "        0.92764579, 0.95032397, 0.96652268, 0.97300216, 0.98056156,\n",
       "        0.98812095, 0.9924406 , 0.99676026, 0.99892009, 1.        ,\n",
       "        1.        , 1.        , 1.        , 1.        , 1.        ,\n",
       "        1.        , 1.        , 1.        , 1.        , 1.        ,\n",
       "        1.        , 1.        , 1.        , 1.        ]),\n",
       " 'split7_train_score': array([0.84358145, 0.85005394, 0.85652643, 0.87270766, 0.90183387,\n",
       "        0.91909385, 0.92664509, 0.95361381, 0.97087379, 0.98058252,\n",
       "        0.98921251, 0.99352751, 1.        , 1.        , 1.        ,\n",
       "        1.        , 1.        , 1.        , 1.        , 1.        ,\n",
       "        1.        , 1.        , 1.        , 1.        , 1.        ,\n",
       "        1.        , 1.        , 1.        , 1.        ]),\n",
       " 'split8_train_score': array([0.8425027 , 0.85005394, 0.86084142, 0.87378641, 0.90183387,\n",
       "        0.91909385, 0.93527508, 0.9600863 , 0.97734628, 0.98381877,\n",
       "        0.98813376, 0.98921251, 0.99137001, 0.99244876, 0.99676375,\n",
       "        0.9978425 , 0.9978425 , 0.99892125, 1.        , 1.        ,\n",
       "        1.        , 1.        , 1.        , 1.        , 1.        ,\n",
       "        1.        , 1.        , 1.        , 1.        ]),\n",
       " 'split9_train_score': array([0.84573894, 0.85113269, 0.86515642, 0.87918015, 0.90614887,\n",
       "        0.9223301 , 0.94282632, 0.95469256, 0.96548004, 0.98166127,\n",
       "        0.98597627, 0.99352751, 0.9978425 , 0.99892125, 1.        ,\n",
       "        1.        , 1.        , 1.        , 1.        , 1.        ,\n",
       "        1.        , 1.        , 1.        , 1.        , 1.        ,\n",
       "        1.        , 1.        , 1.        , 1.        ]),\n",
       " 'mean_train_score': array([0.8404043 , 0.85325621, 0.86048942, 0.88068475, 0.90530167,\n",
       "        0.924848  , 0.94299067, 0.961347  , 0.97268295, 0.98045612,\n",
       "        0.98725841, 0.99287327, 0.99676049, 0.99794851, 0.99902808,\n",
       "        0.99967614, 0.99978425, 0.99989213, 1.        , 1.        ,\n",
       "        1.        , 1.        , 1.        , 1.        , 1.        ,\n",
       "        1.        , 1.        , 1.        , 1.        ]),\n",
       " 'std_train_score': array([0.00309381, 0.00360083, 0.00452318, 0.00577053, 0.00348739,\n",
       "        0.00434533, 0.00785751, 0.00672061, 0.00598596, 0.00422155,\n",
       "        0.00214911, 0.00188275, 0.00236449, 0.00218242, 0.00112702,\n",
       "        0.00069099, 0.00064725, 0.00032362, 0.        , 0.        ,\n",
       "        0.        , 0.        , 0.        , 0.        , 0.        ,\n",
       "        0.        , 0.        , 0.        , 0.        ])}"
      ]
     },
     "execution_count": 113,
     "metadata": {},
     "output_type": "execute_result"
    }
   ],
   "source": [
    "cv_model.cv_results_"
   ]
  }
 ],
 "metadata": {
  "kernelspec": {
   "display_name": "Python 3",
   "language": "python",
   "name": "python3"
  },
  "language_info": {
   "codemirror_mode": {
    "name": "ipython",
    "version": 3
   },
   "file_extension": ".py",
   "mimetype": "text/x-python",
   "name": "python",
   "nbconvert_exporter": "python",
   "pygments_lexer": "ipython3",
   "version": "3.6.5"
  }
 },
 "nbformat": 4,
 "nbformat_minor": 2
}
