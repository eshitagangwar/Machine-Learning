{
 "cells": [
  {
   "cell_type": "code",
   "execution_count": 1,
   "metadata": {},
   "outputs": [],
   "source": [
    "import pandas as pd\n",
    "import numpy as np\n",
    "from sklearn.model_selection import train_test_split\n",
    "from sklearn.tree import DecisionTreeClassifier\n",
    "\n"
   ]
  },
  {
   "cell_type": "code",
   "execution_count": 2,
   "metadata": {},
   "outputs": [],
   "source": [
    "hr = pd.read_csv('https://raw.githubusercontent.com/skathirmani/datasets/master/HR%20Analytics.csv')\n",
    "hr_dummies = pd.get_dummies(hr)\n",
    "\n",
    "\n",
    "train, test = train_test_split(hr_dummies,\n",
    "                               test_size=0.3,\n",
    "                               random_state=100)"
   ]
  },
  {
   "cell_type": "code",
   "execution_count": 4,
   "metadata": {},
   "outputs": [],
   "source": [
    "def draw_tree(model, columns):\n",
    "    import pydotplus\n",
    "    from sklearn.externals.six import StringIO\n",
    "    from IPython.display import Image\n",
    "    import os\n",
    "    from sklearn import tree\n",
    "    \n",
    "    graphviz_path = 'C:\\Program Files (x86)\\Graphviz2.38/bin/'\n",
    "    os.environ[\"PATH\"] += os.pathsep + graphviz_path\n",
    "\n",
    "    dot_data = StringIO()\n",
    "    tree.export_graphviz(model,\n",
    "                         out_file=dot_data,\n",
    "                         feature_names=columns)\n",
    "    graph = pydotplus.graph_from_dot_data(dot_data.getvalue())  \n",
    "    return Image(graph.create_png())"
   ]
  },
  {
   "cell_type": "code",
   "execution_count": 8,
   "metadata": {},
   "outputs": [
    {
     "data": {
      "text/plain": [
       "DecisionTreeClassifier(class_weight=None, criterion='gini', max_depth=1,\n",
       "            max_features=None, max_leaf_nodes=None,\n",
       "            min_impurity_decrease=0.0, min_impurity_split=None,\n",
       "            min_samples_leaf=1, min_samples_split=2,\n",
       "            min_weight_fraction_leaf=0.0, presort=False, random_state=100,\n",
       "            splitter='best')"
      ]
     },
     "execution_count": 8,
     "metadata": {},
     "output_type": "execute_result"
    }
   ],
   "source": [
    "train_x = train.drop('Attrition', axis=1)\n",
    "train_y = train['Attrition']\n",
    "\n",
    "test_x = test.drop('Attrition', axis=1)\n",
    "test_y = test['Attrition']\n",
    "\n",
    "model = DecisionTreeClassifier(random_state=100, max_depth=1)\n",
    "model.fit(train_x, train_y)\n",
    "#draw_tree(model, train_x.columns)"
   ]
  },
  {
   "cell_type": "code",
   "execution_count": 15,
   "metadata": {},
   "outputs": [
    {
     "data": {
      "text/plain": [
       "0.8412698412698413"
      ]
     },
     "execution_count": 15,
     "metadata": {},
     "output_type": "execute_result"
    }
   ],
   "source": [
    "pred_test = model.predict(test_x)\n",
    "pred_results = pd.DataFrame({\n",
    "    'actual': test_y,\n",
    "    'predicted': pred_test\n",
    "})\n",
    "#(pred_results['actual'] == pred_results['predicted']).sum() / test.shape[0]\n",
    "\n",
    "from sklearn.metrics import accuracy_score\n",
    "accuracy_score(pred_results['actual'], pred_results['predicted'])"
   ]
  },
  {
   "cell_type": "code",
   "execution_count": 18,
   "metadata": {},
   "outputs": [
    {
     "data": {
      "text/plain": [
       "(371, 2)"
      ]
     },
     "execution_count": 18,
     "metadata": {},
     "output_type": "execute_result"
    }
   ],
   "source": [
    "### True Negative\n",
    "pred_results[(pred_results['predicted']==0) & \n",
    "             (pred_results['actual']==0)].shape"
   ]
  },
  {
   "cell_type": "code",
   "execution_count": 19,
   "metadata": {},
   "outputs": [
    {
     "data": {
      "text/plain": [
       "(0, 2)"
      ]
     },
     "execution_count": 19,
     "metadata": {},
     "output_type": "execute_result"
    }
   ],
   "source": [
    "### True Positive\n",
    "pred_results[(pred_results['predicted']==1) & \n",
    "             (pred_results['actual']==1)].shape"
   ]
  },
  {
   "cell_type": "code",
   "execution_count": 20,
   "metadata": {},
   "outputs": [
    {
     "data": {
      "text/plain": [
       "(0, 2)"
      ]
     },
     "execution_count": 20,
     "metadata": {},
     "output_type": "execute_result"
    }
   ],
   "source": [
    "### False Positive\n",
    "pred_results[(pred_results['predicted']==1) & \n",
    "             (pred_results['actual']==0)].shape"
   ]
  },
  {
   "cell_type": "code",
   "execution_count": 21,
   "metadata": {},
   "outputs": [
    {
     "data": {
      "text/plain": [
       "(70, 2)"
      ]
     },
     "execution_count": 21,
     "metadata": {},
     "output_type": "execute_result"
    }
   ],
   "source": [
    "### False Negative\n",
    "pred_results[(pred_results['predicted']==0) & \n",
    "             (pred_results['actual']==1)].shape"
   ]
  }
 ],
 "metadata": {
  "kernelspec": {
   "display_name": "Python 3",
   "language": "python",
   "name": "python3"
  },
  "language_info": {
   "codemirror_mode": {
    "name": "ipython",
    "version": 3
   },
   "file_extension": ".py",
   "mimetype": "text/x-python",
   "name": "python",
   "nbconvert_exporter": "python",
   "pygments_lexer": "ipython3",
   "version": "3.6.5"
  }
 },
 "nbformat": 4,
 "nbformat_minor": 2
}
