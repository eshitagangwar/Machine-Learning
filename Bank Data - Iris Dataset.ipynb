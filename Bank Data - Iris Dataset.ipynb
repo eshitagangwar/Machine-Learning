{
 "cells": [
  {
   "cell_type": "code",
   "execution_count": 32,
   "metadata": {},
   "outputs": [],
   "source": [
    "import pandas as pd\n",
    "import numpy as np\n",
    "from sklearn.model_selection import train_test_split\n",
    "from sklearn.ensemble import RandomForestClassifier , AdaBoostClassifier\n",
    "from sklearn.metrics import accuracy_score , classification_report, confusion_matrix\n",
    "from sklearn.tree import DecisionTreeClassifier\n",
    "import matplotlib.pyplot as plt\n",
    "from scipy.spatial.distance import euclidean"
   ]
  },
  {
   "cell_type": "code",
   "execution_count": 33,
   "metadata": {},
   "outputs": [],
   "source": [
    "def ans (tp,tn,fp,fn,ac):\n",
    "    d = pd.Series(index =['tp','tn','fp','fn','spec','sens','ac'])\n",
    "    \n",
    "    spec =tn/(tn+fp)\n",
    "    sens = tp/(tp+fn)\n",
    "    d = pd.Series(index =['tp','tn','fp','fn','spec','sens','ac'] , data =[tp,tn,fp,fn,spec,sens,ac *100])\n",
    "    return d"
   ]
  },
  {
   "cell_type": "code",
   "execution_count": 34,
   "metadata": {},
   "outputs": [],
   "source": [
    "bank = pd.read_csv('C:/Users/Administrator/bank-full.csv', sep= ';')"
   ]
  },
  {
   "cell_type": "code",
   "execution_count": 35,
   "metadata": {},
   "outputs": [],
   "source": [
    "bank_1 = bank.drop('y' , axis =1)\n",
    "bank_1 = pd.get_dummies(bank_1)\n",
    "bank_1['y'] = bank['y']"
   ]
  },
  {
   "cell_type": "code",
   "execution_count": 36,
   "metadata": {},
   "outputs": [
    {
     "data": {
      "text/html": [
       "<div>\n",
       "<style scoped>\n",
       "    .dataframe tbody tr th:only-of-type {\n",
       "        vertical-align: middle;\n",
       "    }\n",
       "\n",
       "    .dataframe tbody tr th {\n",
       "        vertical-align: top;\n",
       "    }\n",
       "\n",
       "    .dataframe thead th {\n",
       "        text-align: right;\n",
       "    }\n",
       "</style>\n",
       "<table border=\"1\" class=\"dataframe\">\n",
       "  <thead>\n",
       "    <tr style=\"text-align: right;\">\n",
       "      <th></th>\n",
       "      <th>age</th>\n",
       "      <th>balance</th>\n",
       "      <th>day</th>\n",
       "      <th>duration</th>\n",
       "      <th>campaign</th>\n",
       "      <th>pdays</th>\n",
       "      <th>previous</th>\n",
       "      <th>job_admin.</th>\n",
       "      <th>job_blue-collar</th>\n",
       "      <th>job_entrepreneur</th>\n",
       "      <th>...</th>\n",
       "      <th>month_mar</th>\n",
       "      <th>month_may</th>\n",
       "      <th>month_nov</th>\n",
       "      <th>month_oct</th>\n",
       "      <th>month_sep</th>\n",
       "      <th>poutcome_failure</th>\n",
       "      <th>poutcome_other</th>\n",
       "      <th>poutcome_success</th>\n",
       "      <th>poutcome_unknown</th>\n",
       "      <th>y</th>\n",
       "    </tr>\n",
       "  </thead>\n",
       "  <tbody>\n",
       "    <tr>\n",
       "      <th>0</th>\n",
       "      <td>58</td>\n",
       "      <td>2143</td>\n",
       "      <td>5</td>\n",
       "      <td>261</td>\n",
       "      <td>1</td>\n",
       "      <td>-1</td>\n",
       "      <td>0</td>\n",
       "      <td>0</td>\n",
       "      <td>0</td>\n",
       "      <td>0</td>\n",
       "      <td>...</td>\n",
       "      <td>0</td>\n",
       "      <td>1</td>\n",
       "      <td>0</td>\n",
       "      <td>0</td>\n",
       "      <td>0</td>\n",
       "      <td>0</td>\n",
       "      <td>0</td>\n",
       "      <td>0</td>\n",
       "      <td>1</td>\n",
       "      <td>no</td>\n",
       "    </tr>\n",
       "    <tr>\n",
       "      <th>1</th>\n",
       "      <td>44</td>\n",
       "      <td>29</td>\n",
       "      <td>5</td>\n",
       "      <td>151</td>\n",
       "      <td>1</td>\n",
       "      <td>-1</td>\n",
       "      <td>0</td>\n",
       "      <td>0</td>\n",
       "      <td>0</td>\n",
       "      <td>0</td>\n",
       "      <td>...</td>\n",
       "      <td>0</td>\n",
       "      <td>1</td>\n",
       "      <td>0</td>\n",
       "      <td>0</td>\n",
       "      <td>0</td>\n",
       "      <td>0</td>\n",
       "      <td>0</td>\n",
       "      <td>0</td>\n",
       "      <td>1</td>\n",
       "      <td>no</td>\n",
       "    </tr>\n",
       "    <tr>\n",
       "      <th>2</th>\n",
       "      <td>33</td>\n",
       "      <td>2</td>\n",
       "      <td>5</td>\n",
       "      <td>76</td>\n",
       "      <td>1</td>\n",
       "      <td>-1</td>\n",
       "      <td>0</td>\n",
       "      <td>0</td>\n",
       "      <td>0</td>\n",
       "      <td>1</td>\n",
       "      <td>...</td>\n",
       "      <td>0</td>\n",
       "      <td>1</td>\n",
       "      <td>0</td>\n",
       "      <td>0</td>\n",
       "      <td>0</td>\n",
       "      <td>0</td>\n",
       "      <td>0</td>\n",
       "      <td>0</td>\n",
       "      <td>1</td>\n",
       "      <td>no</td>\n",
       "    </tr>\n",
       "    <tr>\n",
       "      <th>3</th>\n",
       "      <td>47</td>\n",
       "      <td>1506</td>\n",
       "      <td>5</td>\n",
       "      <td>92</td>\n",
       "      <td>1</td>\n",
       "      <td>-1</td>\n",
       "      <td>0</td>\n",
       "      <td>0</td>\n",
       "      <td>1</td>\n",
       "      <td>0</td>\n",
       "      <td>...</td>\n",
       "      <td>0</td>\n",
       "      <td>1</td>\n",
       "      <td>0</td>\n",
       "      <td>0</td>\n",
       "      <td>0</td>\n",
       "      <td>0</td>\n",
       "      <td>0</td>\n",
       "      <td>0</td>\n",
       "      <td>1</td>\n",
       "      <td>no</td>\n",
       "    </tr>\n",
       "    <tr>\n",
       "      <th>4</th>\n",
       "      <td>33</td>\n",
       "      <td>1</td>\n",
       "      <td>5</td>\n",
       "      <td>198</td>\n",
       "      <td>1</td>\n",
       "      <td>-1</td>\n",
       "      <td>0</td>\n",
       "      <td>0</td>\n",
       "      <td>0</td>\n",
       "      <td>0</td>\n",
       "      <td>...</td>\n",
       "      <td>0</td>\n",
       "      <td>1</td>\n",
       "      <td>0</td>\n",
       "      <td>0</td>\n",
       "      <td>0</td>\n",
       "      <td>0</td>\n",
       "      <td>0</td>\n",
       "      <td>0</td>\n",
       "      <td>1</td>\n",
       "      <td>no</td>\n",
       "    </tr>\n",
       "  </tbody>\n",
       "</table>\n",
       "<p>5 rows × 52 columns</p>\n",
       "</div>"
      ],
      "text/plain": [
       "   age  balance  day  duration  campaign  pdays  previous  job_admin.  \\\n",
       "0   58     2143    5       261         1     -1         0           0   \n",
       "1   44       29    5       151         1     -1         0           0   \n",
       "2   33        2    5        76         1     -1         0           0   \n",
       "3   47     1506    5        92         1     -1         0           0   \n",
       "4   33        1    5       198         1     -1         0           0   \n",
       "\n",
       "   job_blue-collar  job_entrepreneur ...  month_mar  month_may  month_nov  \\\n",
       "0                0                 0 ...          0          1          0   \n",
       "1                0                 0 ...          0          1          0   \n",
       "2                0                 1 ...          0          1          0   \n",
       "3                1                 0 ...          0          1          0   \n",
       "4                0                 0 ...          0          1          0   \n",
       "\n",
       "   month_oct  month_sep  poutcome_failure  poutcome_other  poutcome_success  \\\n",
       "0          0          0                 0               0                 0   \n",
       "1          0          0                 0               0                 0   \n",
       "2          0          0                 0               0                 0   \n",
       "3          0          0                 0               0                 0   \n",
       "4          0          0                 0               0                 0   \n",
       "\n",
       "   poutcome_unknown   y  \n",
       "0                 1  no  \n",
       "1                 1  no  \n",
       "2                 1  no  \n",
       "3                 1  no  \n",
       "4                 1  no  \n",
       "\n",
       "[5 rows x 52 columns]"
      ]
     },
     "execution_count": 36,
     "metadata": {},
     "output_type": "execute_result"
    }
   ],
   "source": [
    "bank_1.head()"
   ]
  },
  {
   "cell_type": "code",
   "execution_count": 37,
   "metadata": {},
   "outputs": [],
   "source": [
    "train, test = train_test_split(bank_1,\n",
    "                               test_size=0.3,\n",
    "                               random_state=100)"
   ]
  },
  {
   "cell_type": "code",
   "execution_count": 38,
   "metadata": {},
   "outputs": [],
   "source": [
    "train_x = train.drop('y', axis=1)\n",
    "train_y = train['y']\n",
    "\n",
    "test_x = test.drop('y', axis=1)\n",
    "test_y = test['y']\n"
   ]
  },
  {
   "cell_type": "markdown",
   "metadata": {},
   "source": [
    "### Decision Tree"
   ]
  },
  {
   "cell_type": "code",
   "execution_count": 39,
   "metadata": {},
   "outputs": [
    {
     "data": {
      "text/plain": [
       "DecisionTreeClassifier(class_weight=None, criterion='gini', max_depth=9,\n",
       "            max_features=None, max_leaf_nodes=None,\n",
       "            min_impurity_decrease=0.0, min_impurity_split=None,\n",
       "            min_samples_leaf=1, min_samples_split=2,\n",
       "            min_weight_fraction_leaf=0.0, presort=False, random_state=100,\n",
       "            splitter='best')"
      ]
     },
     "execution_count": 39,
     "metadata": {},
     "output_type": "execute_result"
    }
   ],
   "source": [
    "model = DecisionTreeClassifier(random_state=100, max_depth=9 ,criterion = 'gini')\n",
    "model.fit(train_x, train_y)"
   ]
  },
  {
   "cell_type": "code",
   "execution_count": 40,
   "metadata": {},
   "outputs": [],
   "source": [
    "pred_test = model.predict(test_x)\n",
    "pred_results = pd.DataFrame({\n",
    "    'actual': test_y,\n",
    "    'predicted': pred_test\n",
    "})\n",
    "\n",
    "\n",
    "from sklearn.metrics import accuracy_score\n",
    "\n",
    "tn,fp,fn,tp= confusion_matrix(pred_results['actual'],pred_results['predicted']).ravel()\n",
    "#print(classification_report(pred_results['actual'],pred_results['predicted']))\n",
    "ad = ans(tp,tn,fp,fn,accuracy_score(test_y, pred_test))\n",
    "\n",
    "#print(ad)"
   ]
  },
  {
   "cell_type": "markdown",
   "metadata": {},
   "source": [
    "### RANDOM FOREST"
   ]
  },
  {
   "cell_type": "code",
   "execution_count": 41,
   "metadata": {},
   "outputs": [
    {
     "name": "stdout",
     "output_type": "stream",
     "text": [
      "0.9058537304629902\n",
      "             precision    recall  f1-score   support\n",
      "\n",
      "         no       0.92      0.97      0.95     11985\n",
      "        yes       0.66      0.39      0.49      1579\n",
      "\n",
      "avg / total       0.89      0.91      0.90     13564\n",
      "\n",
      "tp        618.000000\n",
      "tn      11669.000000\n",
      "fp        316.000000\n",
      "fn        961.000000\n",
      "spec        0.973634\n",
      "sens        0.391387\n",
      "ac         90.585373\n",
      "dtype: float64\n"
     ]
    }
   ],
   "source": [
    "from sklearn.ensemble import RandomForestClassifier\n",
    "model_rf=RandomForestClassifier(random_state=100,n_estimators=300 ,criterion= 'gini', max_depth = 19)\n",
    "model_rf.fit(train_x,train_y)\n",
    "pred=model_rf.predict(test_x)\n",
    "\n",
    "tnr,fpr,fnr,tpr= confusion_matrix(test_y,pred).ravel()\n",
    "ar = ans(tpr,tnr,fpr,fnr,accuracy_score(test_y,pred))\n",
    "print(accuracy_score(test_y,pred))\n",
    "print(classification_report(test_y, pred))\n",
    "print(ar)"
   ]
  },
  {
   "cell_type": "markdown",
   "metadata": {},
   "source": [
    "## ADA BOOSTER"
   ]
  },
  {
   "cell_type": "code",
   "execution_count": 42,
   "metadata": {},
   "outputs": [
    {
     "name": "stdout",
     "output_type": "stream",
     "text": [
      "0.9005455617811855\n",
      "             precision    recall  f1-score   support\n",
      "\n",
      "         no       0.92      0.97      0.95     11985\n",
      "        yes       0.61      0.39      0.48      1579\n",
      "\n",
      "avg / total       0.89      0.90      0.89     13564\n",
      "\n"
     ]
    }
   ],
   "source": [
    "model3 = AdaBoostClassifier(random_state =100, n_estimators= 300)\n",
    "model3.fit(train_x,train_y)\n",
    "pred=model3.predict(test_x)\n",
    "ar3 = accuracy_score(test_y,pred)\n",
    "print(accuracy_score(test_y,pred))\n",
    "print(classification_report(test_y, pred))"
   ]
  },
  {
   "cell_type": "code",
   "execution_count": 43,
   "metadata": {},
   "outputs": [],
   "source": [
    "tna,fpa,fna,tpa= confusion_matrix(test_y,pred).ravel()"
   ]
  },
  {
   "cell_type": "code",
   "execution_count": 44,
   "metadata": {},
   "outputs": [
    {
     "name": "stdout",
     "output_type": "stream",
     "text": [
      "tp        618.000000\n",
      "tn      11597.000000\n",
      "fp        388.000000\n",
      "fn        961.000000\n",
      "spec        0.967626\n",
      "sens        0.391387\n",
      "ac         90.054556\n",
      "dtype: float64\n"
     ]
    }
   ],
   "source": [
    "aad = ans(tpa,tna,fpa,fna,accuracy_score(test_y,pred))\n",
    "print(aad)"
   ]
  },
  {
   "cell_type": "code",
   "execution_count": 45,
   "metadata": {},
   "outputs": [],
   "source": [
    "from sklearn.neighbors import KNeighborsClassifier"
   ]
  },
  {
   "cell_type": "markdown",
   "metadata": {},
   "source": [
    "### KNN "
   ]
  },
  {
   "cell_type": "code",
   "execution_count": 46,
   "metadata": {},
   "outputs": [
    {
     "name": "stdout",
     "output_type": "stream",
     "text": [
      "0.8750368622825125\n",
      "             precision    recall  f1-score   support\n",
      "\n",
      "         no       0.91      0.95      0.93     11985\n",
      "        yes       0.44      0.30      0.36      1579\n",
      "\n",
      "avg / total       0.86      0.88      0.86     13564\n",
      "\n"
     ]
    }
   ],
   "source": [
    "model4 = KNeighborsClassifier(n_neighbors=3, weights='uniform')\n",
    "model4.fit(train_x,train_y)\n",
    "pred=model4.predict(test_x)\n",
    "ar4 = accuracy_score(test_y,pred)\n",
    "print(accuracy_score(test_y,pred))\n",
    "print(classification_report(test_y, pred))"
   ]
  },
  {
   "cell_type": "code",
   "execution_count": 47,
   "metadata": {},
   "outputs": [
    {
     "name": "stdout",
     "output_type": "stream",
     "text": [
      "tp        469.000000\n",
      "tn      11400.000000\n",
      "fp        585.000000\n",
      "fn       1110.000000\n",
      "spec        0.951189\n",
      "sens        0.297023\n",
      "ac         87.503686\n",
      "dtype: float64\n"
     ]
    }
   ],
   "source": [
    "tnn,fpn,fnn,tpn= confusion_matrix(test_y,pred).ravel()\n",
    "ak = ans(tpn,tnn,fpn,fnn,accuracy_score(test_y,pred))\n",
    "print(ak)"
   ]
  },
  {
   "cell_type": "code",
   "execution_count": 48,
   "metadata": {},
   "outputs": [],
   "source": [
    "#ank  = pd.DataFrame(columns=['Decision Tree','Random forest','Ada Boost' , 'Knn'])\n",
    "ank  = pd.DataFrame()\n",
    "ank['Decision Tree'] = ad\n",
    "ank['Random forest'] = ar\n",
    "ank['Ada Boost'] = aad\n",
    "ank['Knn'] = ak"
   ]
  },
  {
   "cell_type": "code",
   "execution_count": 49,
   "metadata": {},
   "outputs": [
    {
     "data": {
      "text/html": [
       "<div>\n",
       "<style scoped>\n",
       "    .dataframe tbody tr th:only-of-type {\n",
       "        vertical-align: middle;\n",
       "    }\n",
       "\n",
       "    .dataframe tbody tr th {\n",
       "        vertical-align: top;\n",
       "    }\n",
       "\n",
       "    .dataframe thead th {\n",
       "        text-align: right;\n",
       "    }\n",
       "</style>\n",
       "<table border=\"1\" class=\"dataframe\">\n",
       "  <thead>\n",
       "    <tr style=\"text-align: right;\">\n",
       "      <th></th>\n",
       "      <th>Decision Tree</th>\n",
       "      <th>Random forest</th>\n",
       "      <th>Ada Boost</th>\n",
       "      <th>Knn</th>\n",
       "    </tr>\n",
       "  </thead>\n",
       "  <tbody>\n",
       "    <tr>\n",
       "      <th>tp</th>\n",
       "      <td>633.000000</td>\n",
       "      <td>618.000000</td>\n",
       "      <td>618.000000</td>\n",
       "      <td>469.000000</td>\n",
       "    </tr>\n",
       "    <tr>\n",
       "      <th>tn</th>\n",
       "      <td>11552.000000</td>\n",
       "      <td>11669.000000</td>\n",
       "      <td>11597.000000</td>\n",
       "      <td>11400.000000</td>\n",
       "    </tr>\n",
       "    <tr>\n",
       "      <th>fp</th>\n",
       "      <td>433.000000</td>\n",
       "      <td>316.000000</td>\n",
       "      <td>388.000000</td>\n",
       "      <td>585.000000</td>\n",
       "    </tr>\n",
       "    <tr>\n",
       "      <th>fn</th>\n",
       "      <td>946.000000</td>\n",
       "      <td>961.000000</td>\n",
       "      <td>961.000000</td>\n",
       "      <td>1110.000000</td>\n",
       "    </tr>\n",
       "    <tr>\n",
       "      <th>spec</th>\n",
       "      <td>0.963872</td>\n",
       "      <td>0.973634</td>\n",
       "      <td>0.967626</td>\n",
       "      <td>0.951189</td>\n",
       "    </tr>\n",
       "    <tr>\n",
       "      <th>sens</th>\n",
       "      <td>0.400887</td>\n",
       "      <td>0.391387</td>\n",
       "      <td>0.391387</td>\n",
       "      <td>0.297023</td>\n",
       "    </tr>\n",
       "    <tr>\n",
       "      <th>ac</th>\n",
       "      <td>89.833382</td>\n",
       "      <td>90.585373</td>\n",
       "      <td>90.054556</td>\n",
       "      <td>87.503686</td>\n",
       "    </tr>\n",
       "  </tbody>\n",
       "</table>\n",
       "</div>"
      ],
      "text/plain": [
       "      Decision Tree  Random forest     Ada Boost           Knn\n",
       "tp       633.000000     618.000000    618.000000    469.000000\n",
       "tn     11552.000000   11669.000000  11597.000000  11400.000000\n",
       "fp       433.000000     316.000000    388.000000    585.000000\n",
       "fn       946.000000     961.000000    961.000000   1110.000000\n",
       "spec       0.963872       0.973634      0.967626      0.951189\n",
       "sens       0.400887       0.391387      0.391387      0.297023\n",
       "ac        89.833382      90.585373     90.054556     87.503686"
      ]
     },
     "execution_count": 49,
     "metadata": {},
     "output_type": "execute_result"
    }
   ],
   "source": [
    "ank"
   ]
  },
  {
   "cell_type": "markdown",
   "metadata": {},
   "source": [
    "### 2.\tUsing IRIS data set we are going to use techniques used by KNN to predict the species, without using KNN inbuilt model. Follow the steps to get the prediction for the first test sample. (use random_state=100 while splitting data in to train & test)\n",
    "a.\tTake first row in test data and identify Euclidean distance with all rows of training data (Use Euclidean distance function\n",
    "b.\tCreate a series with the distance values. Index value of the series should be same as the index value of the training data. Sort the series in the ascending order of distance\n",
    "c.\tPick first 5 neighbors after sorting. For these neighbors, identify their target values. Take a polling and identify which species is having higher count. Your prediction will be that species with higher count.\n"
   ]
  },
  {
   "cell_type": "code",
   "execution_count": 19,
   "metadata": {},
   "outputs": [],
   "source": [
    "import seaborn as sns"
   ]
  },
  {
   "cell_type": "code",
   "execution_count": 20,
   "metadata": {},
   "outputs": [],
   "source": [
    "ir = sns.load_dataset('iris')"
   ]
  },
  {
   "cell_type": "code",
   "execution_count": 21,
   "metadata": {},
   "outputs": [
    {
     "data": {
      "text/html": [
       "<div>\n",
       "<style scoped>\n",
       "    .dataframe tbody tr th:only-of-type {\n",
       "        vertical-align: middle;\n",
       "    }\n",
       "\n",
       "    .dataframe tbody tr th {\n",
       "        vertical-align: top;\n",
       "    }\n",
       "\n",
       "    .dataframe thead th {\n",
       "        text-align: right;\n",
       "    }\n",
       "</style>\n",
       "<table border=\"1\" class=\"dataframe\">\n",
       "  <thead>\n",
       "    <tr style=\"text-align: right;\">\n",
       "      <th></th>\n",
       "      <th>sepal_length</th>\n",
       "      <th>sepal_width</th>\n",
       "      <th>petal_length</th>\n",
       "      <th>petal_width</th>\n",
       "      <th>species</th>\n",
       "    </tr>\n",
       "  </thead>\n",
       "  <tbody>\n",
       "    <tr>\n",
       "      <th>0</th>\n",
       "      <td>5.1</td>\n",
       "      <td>3.5</td>\n",
       "      <td>1.4</td>\n",
       "      <td>0.2</td>\n",
       "      <td>setosa</td>\n",
       "    </tr>\n",
       "    <tr>\n",
       "      <th>1</th>\n",
       "      <td>4.9</td>\n",
       "      <td>3.0</td>\n",
       "      <td>1.4</td>\n",
       "      <td>0.2</td>\n",
       "      <td>setosa</td>\n",
       "    </tr>\n",
       "    <tr>\n",
       "      <th>2</th>\n",
       "      <td>4.7</td>\n",
       "      <td>3.2</td>\n",
       "      <td>1.3</td>\n",
       "      <td>0.2</td>\n",
       "      <td>setosa</td>\n",
       "    </tr>\n",
       "    <tr>\n",
       "      <th>3</th>\n",
       "      <td>4.6</td>\n",
       "      <td>3.1</td>\n",
       "      <td>1.5</td>\n",
       "      <td>0.2</td>\n",
       "      <td>setosa</td>\n",
       "    </tr>\n",
       "    <tr>\n",
       "      <th>4</th>\n",
       "      <td>5.0</td>\n",
       "      <td>3.6</td>\n",
       "      <td>1.4</td>\n",
       "      <td>0.2</td>\n",
       "      <td>setosa</td>\n",
       "    </tr>\n",
       "  </tbody>\n",
       "</table>\n",
       "</div>"
      ],
      "text/plain": [
       "   sepal_length  sepal_width  petal_length  petal_width species\n",
       "0           5.1          3.5           1.4          0.2  setosa\n",
       "1           4.9          3.0           1.4          0.2  setosa\n",
       "2           4.7          3.2           1.3          0.2  setosa\n",
       "3           4.6          3.1           1.5          0.2  setosa\n",
       "4           5.0          3.6           1.4          0.2  setosa"
      ]
     },
     "execution_count": 21,
     "metadata": {},
     "output_type": "execute_result"
    }
   ],
   "source": [
    "ir.head()"
   ]
  },
  {
   "cell_type": "code",
   "execution_count": 22,
   "metadata": {},
   "outputs": [],
   "source": [
    "data = ir.drop('species' , axis =1)\n",
    "data = pd.get_dummies(data)\n",
    "data['species'] = ir['species']"
   ]
  },
  {
   "cell_type": "code",
   "execution_count": 23,
   "metadata": {},
   "outputs": [],
   "source": [
    "train, test = train_test_split(data,\n",
    "                               test_size=0.3,\n",
    "                               random_state=100)"
   ]
  },
  {
   "cell_type": "code",
   "execution_count": 24,
   "metadata": {},
   "outputs": [],
   "source": [
    "train_x = train.drop('species', axis=1)\n",
    "train_y = train['species']\n",
    "\n",
    "test_x = test.drop('species', axis=1)\n",
    "test_y = test['species']"
   ]
  },
  {
   "cell_type": "code",
   "execution_count": 25,
   "metadata": {},
   "outputs": [],
   "source": [
    "from sklearn.neighbors import KNeighborsClassifier\n",
    "model_k = KNeighborsClassifier(n_neighbors = 5)\n",
    "model_k.fit(train_x , train_y)\n",
    "pred_class = model_k.predict(test_x)\n",
    "pred_probs = pd.DataFrame(model_k.predict_proba(test_x), columns = ['Neg','Pos','Zero'])"
   ]
  },
  {
   "cell_type": "code",
   "execution_count": 26,
   "metadata": {},
   "outputs": [
    {
     "name": "stdout",
     "output_type": "stream",
     "text": [
      "Accuracy 0.9777777777777777\n",
      "             precision    recall  f1-score   support\n",
      "\n",
      "     setosa       1.00      1.00      1.00        16\n",
      " versicolor       0.92      1.00      0.96        11\n",
      "  virginica       1.00      0.94      0.97        18\n",
      "\n",
      "avg / total       0.98      0.98      0.98        45\n",
      "\n"
     ]
    },
    {
     "data": {
      "text/plain": [
       "<matplotlib.legend.Legend at 0x1f345773f28>"
      ]
     },
     "execution_count": 26,
     "metadata": {},
     "output_type": "execute_result"
    },
    {
     "data": {
      "image/png": "[encoded data removed]",
      "text/plain": [
       "<Figure size 432x288 with 1 Axes>"
      ]
     },
     "metadata": {},
     "output_type": "display_data"
    }
   ],
   "source": [
    "from sklearn.metrics import roc_curve, auc\n",
    "print('Accuracy' , accuracy_score(test_y, pred_class))\n",
    "print(classification_report(test_y,pred_class))\n",
    "fpr_knn , tpr_knn ,threshold = roc_curve(test_y,pred_probs['Pos'], pos_label='setosa')\n",
    "auc_knn = auc(fpr_knn ,tpr_knn)\n",
    "plt.plot(fpr_knn , tpr_knn)\n",
    "plt.legend(['AUC: %.2f' % auc_knn])"
   ]
  },
  {
   "cell_type": "code",
   "execution_count": 27,
   "metadata": {},
   "outputs": [],
   "source": [
    "test_sample = test_x.iloc[0]\n",
    "df_eds = pd.DataFrame(columns =['index','euclidean'])\n",
    "for index, row in train_x.iterrows():\n",
    "    curr_ed = euclidean(test_sample.values , row.values)\n",
    "    df_eds = df_eds.append({'index': index,\n",
    "                           'euclidean':curr_ed} ,ignore_index = True)\n",
    "neighbors = df_eds.sort_values('euclidean').head()"
   ]
  },
  {
   "cell_type": "code",
   "execution_count": 28,
   "metadata": {},
   "outputs": [],
   "source": [
    "neighbors = df_eds.sort_values('euclidean' ,ascending= True).head(5)['index']"
   ]
  },
  {
   "cell_type": "code",
   "execution_count": 29,
   "metadata": {},
   "outputs": [
    {
     "data": {
      "text/plain": [
       "132.0    virginica\n",
       "104.0    virginica\n",
       "103.0    virginica\n",
       "111.0    virginica\n",
       "137.0    virginica\n",
       "Name: species, dtype: object"
      ]
     },
     "execution_count": 29,
     "metadata": {},
     "output_type": "execute_result"
    }
   ],
   "source": [
    "train_y.loc[neighbors.values]"
   ]
  }
 ],
 "metadata": {
  "kernelspec": {
   "display_name": "Python 3",
   "language": "python",
   "name": "python3"
  },
  "language_info": {
   "codemirror_mode": {
    "name": "ipython",
    "version": 3
   },
   "file_extension": ".py",
   "mimetype": "text/x-python",
   "name": "python",
   "nbconvert_exporter": "python",
   "pygments_lexer": "ipython3",
   "version": "3.6.5"
  }
 },
 "nbformat": 4,
 "nbformat_minor": 2
}
